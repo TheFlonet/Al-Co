{
 "cells": [
  {
   "cell_type": "markdown",
   "source": [
    "# MST implementato tramite PLI"
   ],
   "metadata": {
    "collapsed": false
   }
  },
  {
   "cell_type": "markdown",
   "source": [
    "## Import delle librerie"
   ],
   "metadata": {
    "collapsed": false
   }
  },
  {
   "cell_type": "code",
   "execution_count": 166,
   "metadata": {
    "collapsed": true,
    "ExecuteTime": {
     "end_time": "2023-07-09T18:37:02.429993Z",
     "start_time": "2023-07-09T18:37:02.423699Z"
    }
   },
   "outputs": [],
   "source": [
    "from math import floor, log2\n",
    "import matplotlib.pyplot as plt\n",
    "import networkx as nx\n",
    "from pyqubo import Binary, Placeholder, Constraint\n",
    "from neal import SimulatedAnnealingSampler\n",
    "from itertools import chain, combinations"
   ]
  },
  {
   "cell_type": "markdown",
   "source": [
    "## Lettura dell'input\n",
    "\n",
    "Formato del file atteso:\n",
    "\n",
    "```text\n",
    "vertex0,...,vertexN\n",
    "source1,target1,weight1\n",
    "...\n",
    "sourceN,targetN,weightN\n",
    "```"
   ],
   "metadata": {
    "collapsed": false
   }
  },
  {
   "cell_type": "code",
   "execution_count": 262,
   "outputs": [],
   "source": [
    "edges = {}\n",
    "with open('3v_3e.txt') as f:\n",
    "    lines = [l.strip() for l in f.readlines()]\n",
    "    nodes = {int(v) for v in lines[0].split(',')}\n",
    "    for e in lines[1:]:\n",
    "        vals = [int(x) for x in e.split(',')]\n",
    "        edges[(vals[0], vals[1])] = vals[2]"
   ],
   "metadata": {
    "collapsed": false,
    "ExecuteTime": {
     "end_time": "2023-07-09T19:01:03.553425Z",
     "start_time": "2023-07-09T19:01:03.550492Z"
    }
   }
  },
  {
   "cell_type": "markdown",
   "source": [
    "## Visualizzazione tramite NetworkX"
   ],
   "metadata": {
    "collapsed": false
   }
  },
  {
   "cell_type": "code",
   "execution_count": 263,
   "outputs": [
    {
     "data": {
      "text/plain": "<Figure size 640x480 with 1 Axes>",
      "image/png": "[encoded data removed]"
     },
     "metadata": {},
     "output_type": "display_data"
    }
   ],
   "source": [
    "graph = nx.Graph()\n",
    "for n in nodes:\n",
    "    graph.add_node(n)\n",
    "for edge, w in edges.items():\n",
    "    graph.add_edge(edge[0], edge[1], weight=w)\n",
    "edge_labels = nx.get_edge_attributes(graph, 'weight')\n",
    "\n",
    "pos = nx.spring_layout(graph, k=5)\n",
    "nx.draw(graph, pos, with_labels=True, node_size=500, node_color='lightblue', font_weight='bold')\n",
    "nx.draw_networkx_edge_labels(graph, pos, edge_labels=edge_labels)\n",
    "plt.show()"
   ],
   "metadata": {
    "collapsed": false,
    "ExecuteTime": {
     "end_time": "2023-07-09T19:01:04.185869Z",
     "start_time": "2023-07-09T19:01:04.127220Z"
    }
   }
  },
  {
   "cell_type": "markdown",
   "source": [
    "## Martin's solution"
   ],
   "metadata": {
    "collapsed": false
   }
  },
  {
   "cell_type": "markdown",
   "source": [
    "### Creazione delle variabili binarie\n",
    "\n",
    "Le variabili binarie sono salvate in un dizionario `etichetta: variabili` per poter essere recuperate dinamicamente durante la creazione dei vincoli."
   ],
   "metadata": {
    "collapsed": false
   }
  },
  {
   "cell_type": "markdown",
   "source": [
    "#### Interpretazione delle variabili binarie\n",
    "\n",
    "$$x_{ij} = \\begin{cases}\n",
    "    0 & (i, j) \\notin \\text{archi MST} \\\\\n",
    "    1 & (i, j) \\in \\text{archi MST}\n",
    "\\end{cases}$$\n",
    "\n",
    "Ipotizzando di rimuovere l'arco $(i, j)$ da MST, allora:\n",
    "$$y_{ij}^k = \\begin{cases}\n",
    "    0 & k\\ \\text{è connesso a i} \\\\\n",
    "    1 & k\\ \\text{è connesso a j}\n",
    "\\end{cases}$$\n",
    "Discorso analogo per $y_{ji}^k$."
   ],
   "metadata": {
    "collapsed": false
   }
  },
  {
   "cell_type": "code",
   "execution_count": 272,
   "outputs": [],
   "source": [
    "bin_vars = {f'x_{e[0]}_{e[1]}': Binary(f'x_{e[0]}_{e[1]}') for e in edges}\n",
    "\n",
    "for s, t in edges.keys():\n",
    "    for n in nodes:\n",
    "        bin_vars[f'y_{s}_{t}^{n}'] = Binary(f'y_{s}_{t}^{n}')\n",
    "        bin_vars[f'y_{t}_{s}^{n}'] = Binary(f'y_{t}_{s}^{n}')\n",
    "\n",
    "for s, t in edges.keys():\n",
    "    for n in nodes.difference({s, t}):\n",
    "        bin_vars[f'y_{s}_{n}^{t}'] = Binary(f'y_{s}_{n}^{t}')"
   ],
   "metadata": {
    "collapsed": false,
    "ExecuteTime": {
     "end_time": "2023-07-09T19:02:50.318941Z",
     "start_time": "2023-07-09T19:02:50.314831Z"
    }
   }
  },
  {
   "cell_type": "markdown",
   "source": [
    "### Funzione obiettivo\n",
    "\n",
    "$$\\min_{x, y} \\sum_{(i, j) \\in E}\\phi_{ij}x_{ij}$$"
   ],
   "metadata": {
    "collapsed": false
   }
  },
  {
   "cell_type": "code",
   "execution_count": 273,
   "outputs": [],
   "source": [
    "obj = sum(w * bin_vars[f'x_{e[0]}_{e[1]}'] for e, w in edges.items())"
   ],
   "metadata": {
    "collapsed": false,
    "ExecuteTime": {
     "end_time": "2023-07-09T19:02:50.655300Z",
     "start_time": "2023-07-09T19:02:50.651892Z"
    }
   }
  },
  {
   "cell_type": "markdown",
   "source": [
    "### Vincoli del problema"
   ],
   "metadata": {
    "collapsed": false
   }
  },
  {
   "cell_type": "markdown",
   "source": [
    "#### Vincolo 1\n",
    "\n",
    "$$\\sum_{(i,j) \\in E} x_{ij} = n-1$$\n",
    "\n",
    "L'albero deve avere esattamente $n-1$ archi."
   ],
   "metadata": {
    "collapsed": false
   }
  },
  {
   "cell_type": "code",
   "execution_count": 274,
   "outputs": [],
   "source": [
    "constraint_1 = Constraint((sum(bin_vars[f'x_{e[0]}_{e[1]}'] for e in edges) - len(nodes) + 1) ** 2,\n",
    "                          label='constraint_1', condition=lambda x: x==0)"
   ],
   "metadata": {
    "collapsed": false,
    "ExecuteTime": {
     "end_time": "2023-07-09T19:02:51.244404Z",
     "start_time": "2023-07-09T19:02:51.236757Z"
    }
   }
  },
  {
   "cell_type": "markdown",
   "source": [
    "#### Vincolo 2\n",
    "\n",
    "$$y_{ij}^k + y_{ji}^k = x_{ij}, \\forall (i, j) \\in E, k \\in V$$\n",
    "\n",
    "Se $x_{ij} = 1, \\forall k \\in V, k \\in$ *lato* di $i$ o di $j$."
   ],
   "metadata": {
    "collapsed": false
   }
  },
  {
   "cell_type": "code",
   "execution_count": 275,
   "outputs": [],
   "source": [
    "constraints_2 = []\n",
    "i = 1\n",
    "for s, t in edges.keys():\n",
    "    for n in nodes:\n",
    "        constraints_2.append(\n",
    "            Constraint((\n",
    "                        bin_vars[f'y_{s}_{t}^{n}'] +\n",
    "                        bin_vars[f'y_{t}_{s}^{n}'] -\n",
    "                        bin_vars[f'x_{s}_{t}']) ** 2,\n",
    "                        label=f'constraint_2_{i}', condition=lambda x: x==0))\n",
    "        i += 1"
   ],
   "metadata": {
    "collapsed": false,
    "ExecuteTime": {
     "end_time": "2023-07-09T19:02:51.662021Z",
     "start_time": "2023-07-09T19:02:51.655602Z"
    }
   }
  },
  {
   "cell_type": "markdown",
   "source": [
    "#### Vincolo 3\n",
    "\n",
    "$$\\sum_{k\\in V \\setminus \\{i, j\\}}y_{ik}^j+x_{ij} = 1, \\forall (i, j) \\in E$$\n",
    "\n",
    "Se $x_{ij} = 1$ tutti gli altri nodi sono connessi a $i$."
   ],
   "metadata": {
    "collapsed": false
   }
  },
  {
   "cell_type": "code",
   "execution_count": 276,
   "outputs": [],
   "source": [
    "constraints_3 = [\n",
    "    Constraint((sum(bin_vars[f'y_{s}_{n}^{t}'] for n in nodes.difference({s, t})) + bin_vars[f'x_{s}_{t}'] - 1) ** 2,\n",
    "        label=f'constraint_3_{i}', condition=lambda x: x==0\n",
    "    )\n",
    "    for i, (s, t) in enumerate(edges.keys(), start=1)\n",
    "]"
   ],
   "metadata": {
    "collapsed": false,
    "ExecuteTime": {
     "end_time": "2023-07-09T19:02:52.205918Z",
     "start_time": "2023-07-09T19:02:52.193825Z"
    }
   }
  },
  {
   "cell_type": "code",
   "execution_count": 277,
   "outputs": [
    {
     "name": "stdout",
     "output_type": "stream",
     "text": [
      "G(3, 3)\n",
      "Martin's formulation: 13 vincoli\n"
     ]
    }
   ],
   "source": [
    "print(f'G({len(nodes)}, {len(edges)})\\nMartin\\'s formulation: {1 + len(constraints_2) + len(constraints_3)} vincoli')"
   ],
   "metadata": {
    "collapsed": false,
    "ExecuteTime": {
     "end_time": "2023-07-09T19:02:52.683938Z",
     "start_time": "2023-07-09T19:02:52.680208Z"
    }
   }
  },
  {
   "cell_type": "markdown",
   "source": [
    "### Creazione dell'equazione QUBO"
   ],
   "metadata": {
    "collapsed": false
   }
  },
  {
   "cell_type": "code",
   "execution_count": 278,
   "outputs": [],
   "source": [
    "lagrange = Placeholder('L')\n",
    "ham_function = obj + lagrange * constraint_1 \\\n",
    "               + sum(lagrange * c2 for c2 in constraints_2) \\\n",
    "               + sum(lagrange * c3 for c3 in constraints_3)\n",
    "bqm = ham_function.compile().to_bqm(feed_dict={'L': 10})"
   ],
   "metadata": {
    "collapsed": false,
    "ExecuteTime": {
     "end_time": "2023-07-09T19:02:53.584205Z",
     "start_time": "2023-07-09T19:02:53.577902Z"
    }
   }
  },
  {
   "cell_type": "markdown",
   "source": [
    "### Risoluzione tramite Simulated Annealing"
   ],
   "metadata": {
    "collapsed": false
   }
  },
  {
   "cell_type": "code",
   "execution_count": 279,
   "outputs": [
    {
     "name": "stdout",
     "output_type": "stream",
     "text": [
      "Sample set:\n",
      "    x_1_2 x_1_3 x_2_3 y_1_2^1 y_1_2^2 y_1_2^3 y_1_3^1 ... y_3_2^3 energy num_oc.\n",
      "1      0     1     1       0       0       0       0 ...       0    9.0       1\n",
      "2      0     1     1       0       0       0       1 ...       1    9.0       1\n",
      "4      0     1     1       0       0       0       1 ...       0    9.0       1\n",
      "6      0     1     1       0       0       0       0 ...       1    9.0       1\n",
      "8      0     1     1       0       0       0       0 ...       0    9.0       1\n",
      "12     0     1     1       0       0       0       0 ...       0    9.0       1\n",
      "13     0     1     1       0       0       0       1 ...       1    9.0       1\n",
      "0      1     0     1       1       1       1       0 ...       0   16.0       1\n",
      "3      1     0     1       1       0       1       0 ...       1   16.0       1\n",
      "5      1     0     1       0       1       1       0 ...       1   16.0       1\n",
      "7      1     0     1       0       0       1       0 ...       0   16.0       1\n",
      "9      1     0     1       1       0       1       0 ...       0   16.0       1\n",
      "10     1     0     1       0       0       1       0 ...       1   16.0       1\n",
      "11     1     0     1       1       0       1       0 ...       0   16.0       1\n",
      "14     1     0     1       1       1       1       0 ...       1   16.0       1\n",
      "['BINARY', 15 rows, 15 samples, 21 variables]\n",
      "\n",
      "Primo sample:\n",
      "Sample(sample={'x_1_2': 0, 'x_1_3': 1, 'x_2_3': 1, 'y_1_2^1': 0, 'y_1_2^2': 0, 'y_1_2^3': 0, 'y_1_3^1': 0, 'y_1_3^2': 1, 'y_1_3^3': 0, 'y_2_1^1': 0, 'y_2_1^2': 0, 'y_2_1^3': 0, 'y_2_3^1': 1, 'y_2_3^2': 1, 'y_2_3^3': 1, 'y_3_1^1': 1, 'y_3_1^2': 0, 'y_3_1^3': 1, 'y_3_2^1': 0, 'y_3_2^2': 0, 'y_3_2^3': 0}, energy=9.0, num_occurrences=1)\n"
     ]
    }
   ],
   "source": [
    "simulated_annealing = SimulatedAnnealingSampler()\n",
    "sample_set = simulated_annealing.sample(bqm, num_reads=15, num_sweeps=100)\n",
    "print('Sample set:\\n', sample_set)\n",
    "print('\\nPrimo sample:')\n",
    "print(sample_set.first)"
   ],
   "metadata": {
    "collapsed": false,
    "ExecuteTime": {
     "end_time": "2023-07-09T19:02:54.739348Z",
     "start_time": "2023-07-09T19:02:54.731912Z"
    }
   }
  },
  {
   "cell_type": "markdown",
   "source": [
    "## Cut-Set"
   ],
   "metadata": {
    "collapsed": false
   }
  },
  {
   "cell_type": "markdown",
   "source": [
    "### Creazione delle variabili binarie\n",
    "\n",
    "Le variabili binarie sono salvate in un dizionario `etichetta: variabili` per poter essere recuperate dinamicamente durante la creazione dei vincoli."
   ],
   "metadata": {
    "collapsed": false
   }
  },
  {
   "cell_type": "markdown",
   "source": [
    "#### Interpretazione delle variabili\n",
    "\n",
    "$$x_{ij} = \\begin{cases}\n",
    "    0 & (i, j) \\notin \\text{archi MST} \\\\\n",
    "    1 & (i, j) \\in \\text{archi MST}\n",
    "\\end{cases}$$"
   ],
   "metadata": {
    "collapsed": false
   }
  },
  {
   "cell_type": "code",
   "execution_count": 280,
   "outputs": [],
   "source": [
    "bin_vars_cut = {f'x_{e[0]}_{e[1]}': Binary(f'x_{e[0]}_{e[1]}') for e in edges}"
   ],
   "metadata": {
    "collapsed": false,
    "ExecuteTime": {
     "end_time": "2023-07-09T19:03:04.649416Z",
     "start_time": "2023-07-09T19:03:04.645141Z"
    }
   }
  },
  {
   "cell_type": "markdown",
   "source": [
    "### Funzione obiettivo\n",
    "\n",
    "$$\\min_{x, y} \\sum_{(i, j) \\in E}\\phi_{ij}x_{ij}$$"
   ],
   "metadata": {
    "collapsed": false
   }
  },
  {
   "cell_type": "code",
   "execution_count": 281,
   "outputs": [],
   "source": [
    "obj_cut = sum(w * bin_vars_cut[f'x_{e[0]}_{e[1]}'] for e, w in edges.items())"
   ],
   "metadata": {
    "collapsed": false,
    "ExecuteTime": {
     "end_time": "2023-07-09T19:03:04.929533Z",
     "start_time": "2023-07-09T19:03:04.925583Z"
    }
   }
  },
  {
   "cell_type": "markdown",
   "source": [
    "### Vincoli del problema"
   ],
   "metadata": {
    "collapsed": false
   }
  },
  {
   "cell_type": "markdown",
   "source": [
    "#### Vincolo 1\n",
    "\n",
    "$$\\sum_{(i,j) \\in E} x_{ij} = n-1$$\n",
    "\n",
    "L'albero deve avere esattamente $n-1$ archi."
   ],
   "metadata": {
    "collapsed": false
   }
  },
  {
   "cell_type": "code",
   "execution_count": 282,
   "outputs": [],
   "source": [
    "constraint_1_cut = Constraint((sum(bin_vars_cut[f'x_{e[0]}_{e[1]}'] for e in edges) - len(nodes) + 1) ** 2,\n",
    "                              label='constraint_1', condition=lambda x: x==0)"
   ],
   "metadata": {
    "collapsed": false,
    "ExecuteTime": {
     "end_time": "2023-07-09T19:03:05.382412Z",
     "start_time": "2023-07-09T19:03:05.378311Z"
    }
   }
  },
  {
   "cell_type": "markdown",
   "source": [
    "#### Vincolo 2\n",
    "\n",
    "$$\\sum_{i \\in S, j \\in V\\setminus S}x_{ij} \\geq 1, \\forall\\ \\emptyset \\subset S \\subset V$$\n",
    "\n",
    "$$\\sum_{i \\in S, j \\in V\\setminus S}x_{ij} - s_1= 1, \\forall\\ \\emptyset \\subset S \\subset V$$\n",
    "\n",
    "$$0 \\leq s_1 \\leq |E| - 1$$"
   ],
   "metadata": {
    "collapsed": false
   }
  },
  {
   "cell_type": "code",
   "execution_count": 283,
   "outputs": [],
   "source": [
    "def powerset(elements):\n",
    "    return list(chain.from_iterable(combinations(elements, r) for r in range(len(elements)+1)))"
   ],
   "metadata": {
    "collapsed": false,
    "ExecuteTime": {
     "end_time": "2023-07-09T19:03:05.696843Z",
     "start_time": "2023-07-09T19:03:05.695054Z"
    }
   }
  },
  {
   "cell_type": "code",
   "execution_count": 284,
   "outputs": [],
   "source": [
    "from random import randint\n",
    "constraints_2_cut = []\n",
    "i = 1\n",
    "for s in powerset(nodes)[1:-1]:\n",
    "    x_sum = 0\n",
    "    for i in s:\n",
    "        for j in nodes.difference(s):\n",
    "            if f'x_{i}_{j}' in bin_vars_cut:\n",
    "                x_sum += bin_vars_cut[f'x_{i}_{j}']\n",
    "            elif f'x_{j}_{i}' in bin_vars_cut:\n",
    "                x_sum += bin_vars_cut[f'x_{j}_{i}']\n",
    "    mult = 1\n",
    "    y_sum = 0\n",
    "    for idx in range(floor(log2(len(edges))) + 1):\n",
    "        y_sum += mult*Binary(f'y_{randint(0, 10_000)}')\n",
    "        mult *= 2\n",
    "    constraints_2_cut.append(Constraint((x_sum - y_sum - 1) ** 2,\n",
    "                                        label=f'constraint_2_{i}', condition=lambda x: x==0))\n",
    "    i += 1"
   ],
   "metadata": {
    "collapsed": false,
    "ExecuteTime": {
     "end_time": "2023-07-09T19:03:05.860202Z",
     "start_time": "2023-07-09T19:03:05.855401Z"
    }
   }
  },
  {
   "cell_type": "code",
   "execution_count": 285,
   "outputs": [
    {
     "name": "stdout",
     "output_type": "stream",
     "text": [
      "G(3, 3)\n",
      "Cut-Set: 7 vincoli\n"
     ]
    }
   ],
   "source": [
    "print(f'G({len(nodes)}, {len(edges)})\\nCut-Set: {1 + len(constraints_2_cut)} vincoli')"
   ],
   "metadata": {
    "collapsed": false,
    "ExecuteTime": {
     "end_time": "2023-07-09T19:03:06.022737Z",
     "start_time": "2023-07-09T19:03:06.018569Z"
    }
   }
  },
  {
   "cell_type": "markdown",
   "source": [
    "### Creazione dell'equazione QUBO"
   ],
   "metadata": {
    "collapsed": false
   }
  },
  {
   "cell_type": "code",
   "execution_count": 286,
   "outputs": [],
   "source": [
    "lagrange = Placeholder('L')\n",
    "ham_function = obj_cut + lagrange * constraint_1_cut + sum(lagrange * c2 for c2 in constraints_2_cut)\n",
    "bqm = ham_function.compile().to_bqm(feed_dict={'L': 10})"
   ],
   "metadata": {
    "collapsed": false,
    "ExecuteTime": {
     "end_time": "2023-07-09T19:03:06.541795Z",
     "start_time": "2023-07-09T19:03:06.535952Z"
    }
   }
  },
  {
   "cell_type": "markdown",
   "source": [
    "### Risoluzione tramite Simulated Annealing"
   ],
   "metadata": {
    "collapsed": false
   }
  },
  {
   "cell_type": "code",
   "execution_count": 287,
   "outputs": [
    {
     "name": "stdout",
     "output_type": "stream",
     "text": [
      "Sample set:\n",
      "    x_1_2 x_1_3 x_2_3 y_1 y_1264 y_1272 y_2225 y_4828 ... y_9414 energy num_oc.\n",
      "0      0     1     1   0      1      0      0      0 ...      0    9.0       1\n",
      "1      0     1     1   0      1      0      0      0 ...      0    9.0       1\n",
      "2      0     1     1   0      1      0      0      0 ...      0    9.0       1\n",
      "4      0     1     1   0      1      0      0      0 ...      0    9.0       1\n",
      "5      0     1     1   0      1      0      0      0 ...      0    9.0       1\n",
      "6      0     1     1   0      1      0      0      0 ...      0    9.0       1\n",
      "7      0     1     1   0      1      0      0      0 ...      0    9.0       1\n",
      "8      0     1     1   0      1      0      0      0 ...      0    9.0       1\n",
      "9      0     1     1   0      1      0      0      0 ...      0    9.0       1\n",
      "11     0     1     1   0      1      0      0      0 ...      0    9.0       1\n",
      "13     0     1     1   0      1      0      0      0 ...      0    9.0       1\n",
      "3      1     0     1   0      0      0      1      0 ...      0   16.0       1\n",
      "12     1     0     1   0      0      0      1      0 ...      0   16.0       1\n",
      "10     1     1     0   0      0      0      0      0 ...      1   23.0       1\n",
      "14     1     1     0   0      0      0      0      0 ...      1   23.0       1\n",
      "['BINARY', 15 rows, 15 samples, 15 variables]\n",
      "\n",
      "Primo sample:\n",
      "Sample(sample={'x_1_2': 0, 'x_1_3': 1, 'x_2_3': 1, 'y_1': 0, 'y_1264': 1, 'y_1272': 0, 'y_2225': 0, 'y_4828': 0, 'y_5820': 0, 'y_6178': 1, 'y_6556': 0, 'y_6843': 0, 'y_7117': 0, 'y_7591': 0, 'y_9414': 0}, energy=9.0, num_occurrences=1)\n"
     ]
    }
   ],
   "source": [
    "simulated_annealing = SimulatedAnnealingSampler()\n",
    "sample_set = simulated_annealing.sample(bqm, num_reads=15, num_sweeps=100)\n",
    "print('Sample set:\\n', sample_set)\n",
    "print('\\nPrimo sample:')\n",
    "print(sample_set.first)"
   ],
   "metadata": {
    "collapsed": false,
    "ExecuteTime": {
     "end_time": "2023-07-09T19:03:07.112209Z",
     "start_time": "2023-07-09T19:03:07.106701Z"
    }
   }
  },
  {
   "cell_type": "code",
   "execution_count": null,
   "outputs": [],
   "source": [],
   "metadata": {
    "collapsed": false
   }
  }
 ],
 "metadata": {
  "kernelspec": {
   "display_name": "Python 3",
   "language": "python",
   "name": "python3"
  },
  "language_info": {
   "codemirror_mode": {
    "name": "ipython",
    "version": 2
   },
   "file_extension": ".py",
   "mimetype": "text/x-python",
   "name": "python",
   "nbconvert_exporter": "python",
   "pygments_lexer": "ipython2",
   "version": "2.7.6"
  }
 },
 "nbformat": 4,
 "nbformat_minor": 0
}
